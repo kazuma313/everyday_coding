{
 "cells": [
  {
   "cell_type": "code",
   "execution_count": 13,
   "metadata": {},
   "outputs": [],
   "source": [
    "import firebase_admin\n",
    "from firebase_admin import credentials\n",
    "from firebase_admin import db\n",
    "\n",
    "if not firebase_admin._apps:\n",
    "    cred = credentials.Certificate(\"serviceAccountKey.json\")\n",
    "    firebase_admin.initialize_app(cred,{\n",
    "        'databaseURL': 'https://attandance-66c54-default-rtdb.asia-southeast1.firebasedatabase.app/'\n",
    "})\n",
    "\n",
    "ref = db.reference('people')\n",
    "data = {\n",
    "    \"18650043\":\n",
    "        {\n",
    "        \"name\":\"zulfachri\",\n",
    "        \"major\" : \"teknik informatika\",\n",
    "        \"starting_year\" : 2018,\n",
    "        \"total_attandance\" : 0,\n",
    "        \"last_attandance\" : \"2024-01-10 00:05:10\"\n",
    "        },\n",
    "    \"18650044\":\n",
    "        {\n",
    "        \"name\":\"zulda\",\n",
    "        \"major\" : \"teknik informatika\",\n",
    "        \"starting_year\" : 2018,\n",
    "        \"total_attandance\" : 12,\n",
    "        \"last_attandance\" : \"2024-01-10 11:05:10\"\n",
    "        },\n",
    "        \n",
    "}"
   ]
  },
  {
   "cell_type": "code",
   "execution_count": 14,
   "metadata": {},
   "outputs": [],
   "source": [
    "for key, value in data.items():\n",
    "    ref.child(key).set(value)"
   ]
  },
  {
   "cell_type": "code",
   "execution_count": null,
   "metadata": {},
   "outputs": [],
   "source": []
  }
 ],
 "metadata": {
  "kernelspec": {
   "display_name": ".venv",
   "language": "python",
   "name": "python3"
  },
  "language_info": {
   "codemirror_mode": {
    "name": "ipython",
    "version": 3
   },
   "file_extension": ".py",
   "mimetype": "text/x-python",
   "name": "python",
   "nbconvert_exporter": "python",
   "pygments_lexer": "ipython3",
   "version": "3.11.8"
  }
 },
 "nbformat": 4,
 "nbformat_minor": 2
}
